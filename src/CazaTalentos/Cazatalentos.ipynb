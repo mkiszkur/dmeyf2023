{
 "cells": [
  {
   "cell_type": "markdown",
   "metadata": {},
   "source": [
    "#Primer Caso"
   ]
  },
  {
   "cell_type": "code",
   "execution_count": 2,
   "metadata": {},
   "outputs": [
    {
     "data": {
      "text/plain": [
       "array([0.32475935, 0.108011  , 0.50012666, 0.71533587, 0.64499559,\n",
       "       0.82820318, 0.31808279, 0.49693925, 0.40373465, 0.65287845])"
      ]
     },
     "execution_count": 2,
     "metadata": {},
     "output_type": "execute_result"
    }
   ],
   "source": [
    "import numpy as np\n",
    "np.random.random(10)"
   ]
  },
  {
   "cell_type": "code",
   "execution_count": 8,
   "metadata": {},
   "outputs": [
    {
     "data": {
      "text/plain": [
       "8"
      ]
     },
     "execution_count": 8,
     "metadata": {},
     "output_type": "execute_result"
    }
   ],
   "source": [
    "sum( np.random.random(10) < 0.85 )"
   ]
  },
  {
   "cell_type": "code",
   "execution_count": 13,
   "metadata": {},
   "outputs": [
    {
     "name": "stdout",
     "output_type": "stream",
     "text": [
      "1\n"
     ]
    }
   ],
   "source": [
    "import numpy as np\n",
    "missX_ganadora = 0\n",
    "\n",
    "for i in range(100000):\n",
    "\n",
    "    aciertos_diana = sum( np.random.random(10) < 0.85 )\n",
    "    aciertos_missX = sum( np.random.random(10) < 0.10 )\n",
    "\n",
    "    if (aciertos_missX > aciertos_diana) :\n",
    "        missX_ganadora = missX_ganadora + 1\n",
    "\n",
    "print( missX_ganadora )"
   ]
  },
  {
   "cell_type": "markdown",
   "metadata": {},
   "source": [
    "#Segundo Caso\n"
   ]
  },
  {
   "cell_type": "code",
   "execution_count": 14,
   "metadata": {},
   "outputs": [
    {
     "name": "stdout",
     "output_type": "stream",
     "text": [
      "[0.7   0.501 0.502 0.503 0.504 0.505 0.506 0.507 0.508 0.509 0.51  0.511\n",
      " 0.512 0.513 0.514 0.515 0.516 0.517 0.518 0.519 0.52  0.521 0.522 0.523\n",
      " 0.524 0.525 0.526 0.527 0.528 0.529 0.53  0.531 0.532 0.533 0.534 0.535\n",
      " 0.536 0.537 0.538 0.539 0.54  0.541 0.542 0.543 0.544 0.545 0.546 0.547\n",
      " 0.548 0.549 0.55  0.551 0.552 0.553 0.554 0.555 0.556 0.557 0.558 0.559\n",
      " 0.56  0.561 0.562 0.563 0.564 0.565 0.566 0.567 0.568 0.569 0.57  0.571\n",
      " 0.572 0.573 0.574 0.575 0.576 0.577 0.578 0.579 0.58  0.581 0.582 0.583\n",
      " 0.584 0.585 0.586 0.587 0.588 0.589 0.59  0.591 0.592 0.593 0.594 0.595\n",
      " 0.596 0.597 0.598 0.599]\n",
      "1376\n"
     ]
    }
   ],
   "source": [
    "import  numpy as np\n",
    "\n",
    "np.random.seed(106703)\n",
    "\n",
    "# calcula cuantos encestes logra un jugadora con indice de enceste prob\n",
    "# haciendo qyt tiros libres\n",
    "\n",
    "def ftirar(prob, qty):\n",
    "  return sum(np.random.rand(qty) < prob)\n",
    "\n",
    "# defino los jugadoras\n",
    "mejor = 0.7\n",
    "peloton = np.array(range(501, 600)) / 1000\n",
    "jugadoras = np.append(mejor, peloton)\n",
    "\n",
    "# veo que tiene el vector\n",
    "print(jugadoras)\n",
    "\n",
    "# vectorizo la funcion  ftirar\n",
    "vec_ftirar = np.vectorize(ftirar)\n",
    "\n",
    "# hago que las 100 jugadoras tiren 10 veces cada una\n",
    "vec_ftirar(jugadoras, 10)\n",
    "\n",
    "primera_ganadora = 0\n",
    "\n",
    "for i in range(10000): # diez mil experimentos\n",
    "  vaciertos = vec_ftirar(jugadoras, 10) # 10 tiros libres cada jugadora\n",
    "  mejor_ronda = np.argmax(vaciertos)\n",
    "\n",
    "  if mejor_ronda == 0:\n",
    "    primera_ganadora += 1\n",
    "\n",
    "\n",
    "print(primera_ganadora)\n",
    "\n",
    "# Intuitivamente, lo que está sucediendo es que la inmensa mayoría de las veces, una de las 99\n",
    "# jugadoras del pelotón tiene mucha suerte y supera a la jugadora de 0.70, con lo cual se elige a una\n",
    "# del pelotón y no a la verdadera mejor ! El tener 99 jugadoras en el pelotón hace que al ser tantas\n",
    "# hay varias que tienen mala suerte, pero también hay varias con muy buena suerte, y la que tuvo\n",
    "# más suerte supera a la verdadera mejor !\n"
   ]
  },
  {
   "cell_type": "code",
   "execution_count": null,
   "metadata": {},
   "outputs": [],
   "source": []
  }
 ],
 "metadata": {
  "kernelspec": {
   "display_name": "Python 3",
   "language": "python",
   "name": "python3"
  },
  "language_info": {
   "codemirror_mode": {
    "name": "ipython",
    "version": 3
   },
   "file_extension": ".py",
   "mimetype": "text/x-python",
   "name": "python",
   "nbconvert_exporter": "python",
   "pygments_lexer": "ipython3",
   "version": "3.8.7"
  },
  "orig_nbformat": 4
 },
 "nbformat": 4,
 "nbformat_minor": 2
}
